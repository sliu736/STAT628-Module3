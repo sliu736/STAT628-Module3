{
 "cells": [
  {
   "cell_type": "code",
   "execution_count": 3,
   "id": "breathing-manchester",
   "metadata": {},
   "outputs": [],
   "source": [
    "import json\n",
    "import re as re\n",
    "import os\n",
    "import collections"
   ]
  },
  {
   "cell_type": "code",
   "execution_count": 4,
   "id": "polished-carpet",
   "metadata": {},
   "outputs": [],
   "source": [
    "#business = [json.loads(line) for line in open('business.json', 'r')]\n",
    "business_Gym=list()\n",
    "for line in open('business.json', 'r'):\n",
    "    line=json.loads(line)\n",
    "    if (type(line['categories'])!=str):\n",
    "        next\n",
    "    else:\n",
    "        if (re.search('Gyms', line['categories'])!=None):\n",
    "            business_Gym.append(line)"
   ]
  },
  {
   "cell_type": "code",
   "execution_count": 5,
   "id": "indoor-method",
   "metadata": {},
   "outputs": [],
   "source": [
    "business_id_Gym=[line['business_id'] for line in business_Gym]"
   ]
  },
  {
   "cell_type": "code",
   "execution_count": 6,
   "id": "strategic-roots",
   "metadata": {},
   "outputs": [],
   "source": [
    "tip_Gym=list()\n",
    "for line in open('tip.json', 'r'):\n",
    "    line=json.loads(line)\n",
    "    if (line['business_id'] in business_id_Gym):\n",
    "        tip_Gym.append(line)"
   ]
  },
  {
   "cell_type": "code",
   "execution_count": 7,
   "id": "wanted-reggae",
   "metadata": {},
   "outputs": [],
   "source": [
    "review_Gym=list()\n",
    "for line in open('review.json', 'r'):\n",
    "    line=json.loads(line)\n",
    "    if (line['business_id'] in business_id_Gym):\n",
    "        review_Gym.append(line)"
   ]
  },
  {
   "cell_type": "code",
   "execution_count": 8,
   "id": "criminal-apollo",
   "metadata": {},
   "outputs": [],
   "source": [
    "review_Gym_user_id=list()\n",
    "for line in review_Gym:\n",
    "    if (line['user_id'] not in review_Gym_user_id):\n",
    "        review_Gym_user_id.append(line['user_id'])"
   ]
  },
  {
   "cell_type": "code",
   "execution_count": 10,
   "id": "psychological-meaning",
   "metadata": {},
   "outputs": [
    {
     "ename": "KeyboardInterrupt",
     "evalue": "",
     "output_type": "error",
     "traceback": [
      "\u001b[0;31m---------------------------------------------------------------------------\u001b[0m",
      "\u001b[0;31mKeyboardInterrupt\u001b[0m                         Traceback (most recent call last)",
      "\u001b[0;32m<ipython-input-10-f0c5e9ddf6ac>\u001b[0m in \u001b[0;36m<module>\u001b[0;34m\u001b[0m\n\u001b[1;32m      1\u001b[0m \u001b[0muser_Gym\u001b[0m\u001b[0;34m=\u001b[0m\u001b[0mlist\u001b[0m\u001b[0;34m(\u001b[0m\u001b[0;34m)\u001b[0m\u001b[0;34m\u001b[0m\u001b[0;34m\u001b[0m\u001b[0m\n\u001b[0;32m----> 2\u001b[0;31m \u001b[0;32mfor\u001b[0m \u001b[0mline\u001b[0m \u001b[0;32min\u001b[0m \u001b[0mopen\u001b[0m\u001b[0;34m(\u001b[0m\u001b[0;34m'user.json'\u001b[0m\u001b[0;34m,\u001b[0m \u001b[0;34m'r'\u001b[0m\u001b[0;34m)\u001b[0m\u001b[0;34m:\u001b[0m\u001b[0;34m\u001b[0m\u001b[0;34m\u001b[0m\u001b[0m\n\u001b[0m\u001b[1;32m      3\u001b[0m     \u001b[0mline\u001b[0m\u001b[0;34m=\u001b[0m\u001b[0mjson\u001b[0m\u001b[0;34m.\u001b[0m\u001b[0mloads\u001b[0m\u001b[0;34m(\u001b[0m\u001b[0mline\u001b[0m\u001b[0;34m)\u001b[0m\u001b[0;34m\u001b[0m\u001b[0;34m\u001b[0m\u001b[0m\n\u001b[1;32m      4\u001b[0m     \u001b[0;32mif\u001b[0m \u001b[0;34m(\u001b[0m\u001b[0mline\u001b[0m\u001b[0;34m[\u001b[0m\u001b[0;34m'user_id'\u001b[0m\u001b[0;34m]\u001b[0m \u001b[0;32min\u001b[0m \u001b[0mreview_Gym_user_id\u001b[0m\u001b[0;34m)\u001b[0m\u001b[0;34m:\u001b[0m\u001b[0;34m\u001b[0m\u001b[0;34m\u001b[0m\u001b[0m\n\u001b[1;32m      5\u001b[0m         \u001b[0muser_Gym\u001b[0m\u001b[0;34m.\u001b[0m\u001b[0mappend\u001b[0m\u001b[0;34m(\u001b[0m\u001b[0mline\u001b[0m\u001b[0;34m)\u001b[0m\u001b[0;34m\u001b[0m\u001b[0;34m\u001b[0m\u001b[0m\n",
      "\u001b[0;31mKeyboardInterrupt\u001b[0m: "
     ]
    }
   ],
   "source": [
    "user_Gym=list()\n",
    "for line in open('user.json', 'r'):\n",
    "    line=json.loads(line)\n",
    "    if (line['user_id'] in review_Gym_user_id):\n",
    "        user_Gym.append(line)\n",
    "        review_Gym_user_id.remove(line['user_id'])"
   ]
  },
  {
   "cell_type": "code",
   "execution_count": 64,
   "id": "individual-pepper",
   "metadata": {
    "scrolled": true
   },
   "outputs": [],
   "source": [
    "def write_list_to_json(list_in, json_file_name, json_file_save_path):\n",
    "    \"\"\"\n",
    "    将list写入到json文件\n",
    "    :param list:\n",
    "    :param json_file_name: 写入的json文件名字\n",
    "    :param json_file_save_path: json文件存储路径\n",
    "    :return:\n",
    "    \"\"\"\n",
    "    os.chdir(json_file_save_path)\n",
    "    with open(json_file_name, 'w') as  f:\n",
    "        json.dump(list_in, f)"
   ]
  },
  {
   "cell_type": "code",
   "execution_count": 61,
   "id": "executed-stable",
   "metadata": {},
   "outputs": [],
   "source": [
    "write_list_to_json(business_Gym, 'business_Gym.json','./')"
   ]
  },
  {
   "cell_type": "code",
   "execution_count": 62,
   "id": "every-season",
   "metadata": {},
   "outputs": [],
   "source": [
    "write_list_to_json(tip_Gym, 'tip_Gym.json','./')"
   ]
  },
  {
   "cell_type": "code",
   "execution_count": 63,
   "id": "electronic-solomon",
   "metadata": {},
   "outputs": [],
   "source": [
    "write_list_to_json(review_Gym, 'review_Gym.json','./')"
   ]
  },
  {
   "cell_type": "code",
   "execution_count": 74,
   "id": "formed-impression",
   "metadata": {},
   "outputs": [],
   "source": [
    "write_list_to_json(user_Gym, 'user_Gym.json','./')"
   ]
  },
  {
   "cell_type": "code",
   "execution_count": null,
   "id": "accessory-password",
   "metadata": {},
   "outputs": [],
   "source": []
  },
  {
   "cell_type": "code",
   "execution_count": 14,
   "id": "dimensional-album",
   "metadata": {},
   "outputs": [],
   "source": [
    "words_box=[]\n",
    "for line in review_Gym:\n",
    "    words_box.extend(line['text'].strip().split())"
   ]
  },
  {
   "cell_type": "code",
   "execution_count": 16,
   "id": "advised-professional",
   "metadata": {},
   "outputs": [],
   "source": [
    "count=collections.Counter(words_box)    "
   ]
  },
  {
   "cell_type": "code",
   "execution_count": 35,
   "id": "loose-russia",
   "metadata": {},
   "outputs": [
    {
     "data": {
      "text/plain": [
       "[('the', 311519),\n",
       " ('and', 271086),\n",
       " ('I', 242744),\n",
       " ('to', 238370),\n",
       " ('a', 214491),\n",
       " ('is', 125502),\n",
       " ('of', 124054),\n",
       " ('for', 95323),\n",
       " ('in', 93310),\n",
       " ('you', 78637),\n",
       " ('that', 75091),\n",
       " ('my', 69666),\n",
       " ('was', 68585),\n",
       " ('are', 68379),\n",
       " ('have', 65984),\n",
       " ('with', 57809),\n",
       " ('The', 56981),\n",
       " ('it', 55159),\n",
       " ('this', 52936),\n",
       " ('but', 48450),\n",
       " ('they', 47521),\n",
       " ('on', 46361),\n",
       " ('at', 44629),\n",
       " ('not', 42587),\n",
       " ('gym', 40557),\n",
       " ('me', 36947),\n",
       " ('be', 35331),\n",
       " ('so', 35066),\n",
       " ('as', 29926),\n",
       " ('out', 29628),\n",
       " ('get', 28328),\n",
       " ('your', 27018),\n",
       " ('been', 26991),\n",
       " ('or', 26806),\n",
       " ('like', 26137),\n",
       " ('all', 26013),\n",
       " ('about', 24590),\n",
       " ('up', 23912),\n",
       " ('had', 23670),\n",
       " ('there', 23476),\n",
       " ('if', 22713),\n",
       " ('just', 22464),\n",
       " ('can', 21434),\n",
       " ('one', 21109),\n",
       " ('very', 20957),\n",
       " ('their', 20801),\n",
       " ('has', 20715),\n",
       " ('an', 20634),\n",
       " (\"I've\", 20239),\n",
       " ('from', 19693),\n",
       " ('when', 19625),\n",
       " ('great', 19189),\n",
       " ('do', 19160),\n",
       " ('really', 19157),\n",
       " ('would', 19152),\n",
       " ('class', 19085),\n",
       " ('classes', 18937),\n",
       " ('They', 18625),\n",
       " ('more', 17690),\n",
       " ('place', 17607),\n",
       " ('-', 17375),\n",
       " ('will', 16996),\n",
       " (\"it's\", 16908),\n",
       " ('no', 16800),\n",
       " (\"I'm\", 16228),\n",
       " ('go', 16194),\n",
       " ('only', 16166),\n",
       " ('This', 16105),\n",
       " ('other', 16049),\n",
       " ('because', 15793),\n",
       " (\"don't\", 15743),\n",
       " ('people', 15580),\n",
       " ('staff', 15423),\n",
       " ('time', 15209),\n",
       " ('work', 15193),\n",
       " ('what', 14665),\n",
       " ('were', 14566),\n",
       " ('which', 14127),\n",
       " ('never', 14018),\n",
       " ('some', 13914),\n",
       " ('good', 13861),\n",
       " ('who', 13799),\n",
       " ('also', 13788),\n",
       " ('by', 13697),\n",
       " ('always', 13581),\n",
       " ('even', 12692),\n",
       " ('workout', 12624),\n",
       " ('am', 12553),\n",
       " ('membership', 12137),\n",
       " ('here', 12111),\n",
       " ('It', 11991),\n",
       " ('than', 11949),\n",
       " ('after', 11800),\n",
       " ('going', 11790),\n",
       " ('we', 11246),\n",
       " ('them', 10999),\n",
       " ('equipment', 10952),\n",
       " ('If', 10898),\n",
       " ('he', 10883),\n",
       " ('love', 10736)]"
      ]
     },
     "execution_count": 35,
     "metadata": {},
     "output_type": "execute_result"
    }
   ],
   "source": [
    "count.most_common(100)"
   ]
  },
  {
   "cell_type": "code",
   "execution_count": 28,
   "id": "attended-replication",
   "metadata": {},
   "outputs": [
    {
     "data": {
      "text/plain": [
       "353"
      ]
     },
     "execution_count": 28,
     "metadata": {},
     "output_type": "execute_result"
    }
   ],
   "source": [
    "count['opening']"
   ]
  },
  {
   "cell_type": "code",
   "execution_count": 29,
   "id": "respected-luxury",
   "metadata": {},
   "outputs": [
    {
     "data": {
      "text/plain": [
       "15209"
      ]
     },
     "execution_count": 29,
     "metadata": {},
     "output_type": "execute_result"
    }
   ],
   "source": [
    "count['garage']"
   ]
  },
  {
   "cell_type": "code",
   "execution_count": null,
   "id": "powerful-eight",
   "metadata": {},
   "outputs": [],
   "source": []
  },
  {
   "cell_type": "code",
   "execution_count": null,
   "id": "impossible-immigration",
   "metadata": {},
   "outputs": [],
   "source": []
  },
  {
   "cell_type": "code",
   "execution_count": null,
   "id": "adapted-murder",
   "metadata": {},
   "outputs": [],
   "source": []
  },
  {
   "cell_type": "code",
   "execution_count": null,
   "id": "activated-remark",
   "metadata": {},
   "outputs": [],
   "source": []
  },
  {
   "cell_type": "code",
   "execution_count": null,
   "id": "latest-reason",
   "metadata": {},
   "outputs": [],
   "source": []
  }
 ],
 "metadata": {
  "kernelspec": {
   "display_name": "Python 3",
   "language": "python",
   "name": "python3"
  },
  "language_info": {
   "codemirror_mode": {
    "name": "ipython",
    "version": 3
   },
   "file_extension": ".py",
   "mimetype": "text/x-python",
   "name": "python",
   "nbconvert_exporter": "python",
   "pygments_lexer": "ipython3",
   "version": "3.9.6"
  }
 },
 "nbformat": 4,
 "nbformat_minor": 5
}
