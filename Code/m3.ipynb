{
 "cells": [
  {
   "cell_type": "code",
   "execution_count": 1,
   "id": "1d493fad",
   "metadata": {},
   "outputs": [
    {
     "name": "stdout",
     "output_type": "stream",
     "text": [
      "Collecting langdetect\n",
      "  Downloading langdetect-1.0.9.tar.gz (981 kB)\n",
      "     |████████████████████████████████| 981 kB 6.9 MB/s            \n",
      "\u001b[?25h  Preparing metadata (setup.py) ... \u001b[?25ldone\n",
      "\u001b[?25hRequirement already satisfied: six in /Library/Frameworks/Python.framework/Versions/3.8/lib/python3.8/site-packages (from langdetect) (1.16.0)\n",
      "Building wheels for collected packages: langdetect\n",
      "  Building wheel for langdetect (setup.py) ... \u001b[?25ldone\n",
      "\u001b[?25h  Created wheel for langdetect: filename=langdetect-1.0.9-py3-none-any.whl size=993222 sha256=ee989bcc4e33b139769b704d60f8c41a9e3567a05298b458d79cc7c4e9f755be\n",
      "  Stored in directory: /Users/chen/Library/Caches/pip/wheels/13/c7/b0/79f66658626032e78fc1a83103690ef6797d551cb22e56e734\n",
      "Successfully built langdetect\n",
      "Installing collected packages: langdetect\n",
      "Successfully installed langdetect-1.0.9\n",
      "Note: you may need to restart the kernel to use updated packages.\n"
     ]
    }
   ],
   "source": [
    "pip install langdetect"
   ]
  },
  {
   "cell_type": "code",
   "execution_count": 40,
   "id": "428c08ea",
   "metadata": {},
   "outputs": [],
   "source": [
    "from langdetect import detect\n",
    "import json\n",
    "import pandas\n",
    "import os"
   ]
  },
  {
   "cell_type": "code",
   "execution_count": 7,
   "id": "19cff476",
   "metadata": {},
   "outputs": [
    {
     "name": "stdout",
     "output_type": "stream",
     "text": [
      "en\n"
     ]
    }
   ],
   "source": [
    "#sentence = \"Tanzania ni nchi inayoongoza kwa utalii barani afrika\"\n",
    "\n",
    "#print(detect(sentence))\n",
    "\n",
    "#sentence0 = \"happy friday\"\n",
    "#print(detect(sentence0))"
   ]
  },
  {
   "cell_type": "code",
   "execution_count": 21,
   "id": "c167b61c",
   "metadata": {},
   "outputs": [],
   "source": [
    "review_json_file = open('review_Gym.json','r')\n",
    "\n",
    "content = review_json_file.read()\n",
    "\n",
    "review = json.loads(content)"
   ]
  },
  {
   "cell_type": "code",
   "execution_count": 28,
   "id": "d6dbfe07",
   "metadata": {},
   "outputs": [
    {
     "name": "stdout",
     "output_type": "stream",
     "text": [
      "<class 'list'>\n"
     ]
    },
    {
     "data": {
      "text/plain": [
       "58459"
      ]
     },
     "execution_count": 28,
     "metadata": {},
     "output_type": "execute_result"
    }
   ],
   "source": [
    "print(type(review))\n",
    "len(review)"
   ]
  },
  {
   "cell_type": "code",
   "execution_count": 31,
   "id": "3c6cf736",
   "metadata": {},
   "outputs": [],
   "source": [
    "En_review_Gym = []\n",
    "\n",
    "for line in review:\n",
    "    dct_lan = detect(line['text'])\n",
    "    if dct_lan == 'en':\n",
    "        En_review_Gym.append(line)\n",
    "\n",
    "        "
   ]
  },
  {
   "cell_type": "code",
   "execution_count": 35,
   "id": "278dacd3",
   "metadata": {},
   "outputs": [
    {
     "data": {
      "text/plain": [
       "{'review_id': 'WbZa7cFXLeIpooAXu77cyQ',\n",
       " 'user_id': 'xTr_EPGC46nfKBkBKjdKfA',\n",
       " 'business_id': '1p2bfq4k-tY8Ea9JuolUmw',\n",
       " 'stars': 5.0,\n",
       " 'useful': 1,\n",
       " 'funny': 0,\n",
       " 'cool': 0,\n",
       " 'text': \"I love this place! I have lost several inches all over since I started about a month ago. I've only been to Robert's class in the afternoon, but I hear the other instructors are awesome! Robert is very helpful and professional. The gym is clean with no weird gym smells.\",\n",
       " 'date': '2013-07-12 21:58:59'}"
      ]
     },
     "execution_count": 35,
     "metadata": {},
     "output_type": "execute_result"
    }
   ],
   "source": [
    "En_review_Gym[1]"
   ]
  },
  {
   "cell_type": "code",
   "execution_count": 36,
   "id": "304a4f0a",
   "metadata": {},
   "outputs": [
    {
     "data": {
      "text/plain": [
       "58425"
      ]
     },
     "execution_count": 36,
     "metadata": {},
     "output_type": "execute_result"
    }
   ],
   "source": [
    "len(En_review_Gym)"
   ]
  },
  {
   "cell_type": "code",
   "execution_count": 38,
   "id": "b42325f0",
   "metadata": {},
   "outputs": [],
   "source": [
    "def write_list_to_json(list_in, json_file_name, json_file_save_path):\n",
    "    \"\"\"\n",
    "    将list写入到json文件\n",
    "    :param list:\n",
    "    :param json_file_name: 写入的json文件名字\n",
    "    :param json_file_save_path: json文件存储路径\n",
    "    :return:\n",
    "    \"\"\"\n",
    "    os.chdir(json_file_save_path)\n",
    "    with open(json_file_name, 'w') as  f:\n",
    "        json.dump(list_in, f)"
   ]
  },
  {
   "cell_type": "code",
   "execution_count": 41,
   "id": "d77fcdfa",
   "metadata": {},
   "outputs": [],
   "source": [
    "write_list_to_json(En_review_Gym, 'review_Gym_en.json','./')"
   ]
  },
  {
   "cell_type": "code",
   "execution_count": null,
   "id": "c058b507",
   "metadata": {},
   "outputs": [],
   "source": []
  }
 ],
 "metadata": {
  "kernelspec": {
   "display_name": "Python 3 (ipykernel)",
   "language": "python",
   "name": "python3"
  },
  "language_info": {
   "codemirror_mode": {
    "name": "ipython",
    "version": 3
   },
   "file_extension": ".py",
   "mimetype": "text/x-python",
   "name": "python",
   "nbconvert_exporter": "python",
   "pygments_lexer": "ipython3",
   "version": "3.8.1"
  }
 },
 "nbformat": 4,
 "nbformat_minor": 5
}
