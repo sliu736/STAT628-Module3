{
 "cells": [
  {
   "cell_type": "code",
   "execution_count": 59,
   "id": "breathing-manchester",
   "metadata": {},
   "outputs": [],
   "source": [
    "import json\n",
    "import re as re\n",
    "import os"
   ]
  },
  {
   "cell_type": "code",
   "execution_count": 14,
   "id": "polished-carpet",
   "metadata": {},
   "outputs": [],
   "source": [
    "#business = [json.loads(line) for line in open('business.json', 'r')]\n",
    "business_Gym=list()\n",
    "for line in open('business.json', 'r'):\n",
    "    line=json.loads(line)\n",
    "    if (type(line['categories'])!=str):\n",
    "        next\n",
    "    else:\n",
    "        if (re.search('Gyms', line['categories'])!=None):\n",
    "            business_Gym.append(line)"
   ]
  },
  {
   "cell_type": "code",
   "execution_count": 19,
   "id": "indoor-method",
   "metadata": {},
   "outputs": [],
   "source": [
    "business_id_Gym=[line['business_id'] for line in business_Gym]"
   ]
  },
  {
   "cell_type": "code",
   "execution_count": 20,
   "id": "strategic-roots",
   "metadata": {},
   "outputs": [],
   "source": [
    "tip_Gym=list()\n",
    "for line in open('tip.json', 'r'):\n",
    "    line=json.loads(line)\n",
    "    if (line['business_id'] in business_id_Gym):\n",
    "        tip_Gym.append(line)"
   ]
  },
  {
   "cell_type": "code",
   "execution_count": 37,
   "id": "wanted-reggae",
   "metadata": {},
   "outputs": [],
   "source": [
    "review_Gym=list()\n",
    "for line in open('review.json', 'r'):\n",
    "    line=json.loads(line)\n",
    "    if (line['business_id'] in business_id_Gym):\n",
    "        review_Gym.append(line)"
   ]
  },
  {
   "cell_type": "code",
   "execution_count": 67,
   "id": "criminal-apollo",
   "metadata": {},
   "outputs": [],
   "source": [
    "review_Gym_user_id=list()\n",
    "for line in review_Gym:\n",
    "    if (line['user_id'] not in review_Gym_user_id):\n",
    "        review_Gym_user_id.append(line['user_id'])"
   ]
  },
  {
   "cell_type": "code",
   "execution_count": 71,
   "id": "psychological-meaning",
   "metadata": {},
   "outputs": [],
   "source": [
    "user_Gym=list()\n",
    "for line in open('user.json', 'r'):\n",
    "    line=json.loads(line)\n",
    "    if (line['user_id'] in review_Gym_user_id):\n",
    "        user_Gym.append(line)\n",
    "        review_Gym_user_id.remove(line['user_id'])"
   ]
  },
  {
   "cell_type": "code",
   "execution_count": 64,
   "id": "individual-pepper",
   "metadata": {
    "scrolled": true
   },
   "outputs": [],
   "source": [
    "def write_list_to_json(list_in, json_file_name, json_file_save_path):\n",
    "    \"\"\"\n",
    "    将list写入到json文件\n",
    "    :param list:\n",
    "    :param json_file_name: 写入的json文件名字\n",
    "    :param json_file_save_path: json文件存储路径\n",
    "    :return:\n",
    "    \"\"\"\n",
    "    os.chdir(json_file_save_path)\n",
    "    with open(json_file_name, 'w') as  f:\n",
    "        json.dump(list_in, f)"
   ]
  },
  {
   "cell_type": "code",
   "execution_count": 61,
   "id": "executed-stable",
   "metadata": {},
   "outputs": [],
   "source": [
    "write_list_to_json(business_Gym, 'business_Gym.json','./')"
   ]
  },
  {
   "cell_type": "code",
   "execution_count": 62,
   "id": "every-season",
   "metadata": {},
   "outputs": [],
   "source": [
    "write_list_to_json(tip_Gym, 'tip_Gym.json','./')"
   ]
  },
  {
   "cell_type": "code",
   "execution_count": 63,
   "id": "electronic-solomon",
   "metadata": {},
   "outputs": [],
   "source": [
    "write_list_to_json(review_Gym, 'review_Gym.json','./')"
   ]
  },
  {
   "cell_type": "code",
   "execution_count": 74,
   "id": "formed-impression",
   "metadata": {},
   "outputs": [],
   "source": [
    "write_list_to_json(user_Gym, 'user_Gym.json','./')"
   ]
  },
  {
   "cell_type": "code",
   "execution_count": null,
   "id": "accessory-password",
   "metadata": {},
   "outputs": [],
   "source": []
  }
 ],
 "metadata": {
  "kernelspec": {
   "display_name": "Python 3",
   "language": "python",
   "name": "python3"
  },
  "language_info": {
   "codemirror_mode": {
    "name": "ipython",
    "version": 3
   },
   "file_extension": ".py",
   "mimetype": "text/x-python",
   "name": "python",
   "nbconvert_exporter": "python",
   "pygments_lexer": "ipython3",
   "version": "3.9.6"
  }
 },
 "nbformat": 4,
 "nbformat_minor": 5
}
