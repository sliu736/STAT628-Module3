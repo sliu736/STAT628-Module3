{
 "cells": [
  {
   "cell_type": "code",
   "execution_count": 3,
   "id": "breathing-manchester",
   "metadata": {},
   "outputs": [],
   "source": [
    "import json\n",
    "import re as re\n",
    "import os\n",
    "import collections\n",
    "import string\n",
    "import numpy as np\n",
    "import pandas as pd\n",
    "import nltk\n",
    "#nltk.download('wordnet')\n",
    "#nltk.download('averaged_perceptron_tagger')"
   ]
  },
  {
   "cell_type": "code",
   "execution_count": 4,
   "id": "413a76ba",
   "metadata": {},
   "outputs": [],
   "source": [
    "review_Gym = [json.loads(line) for line in open('review_Gym.json', 'r')]"
   ]
  },
  {
   "cell_type": "code",
   "execution_count": 5,
   "id": "14ff0398",
   "metadata": {},
   "outputs": [],
   "source": [
    "review_Gym_clear=review_Gym[0]\n",
    "for line in review_Gym_clear:\n",
    "    for p in string.punctuation.replace(\"\\'\",\"\"):\n",
    "        line['text']=line['text'].replace(p, \" \")\n",
    "        line['text']=line['text'].lower()"
   ]
  },
  {
   "cell_type": "code",
   "execution_count": 6,
   "id": "64e9cbf6",
   "metadata": {
    "scrolled": true
   },
   "outputs": [],
   "source": [
    "import ssl\n",
    "ssl._create_default_https_context = ssl._create_unverified_context"
   ]
  },
  {
   "cell_type": "code",
   "execution_count": 7,
   "id": "b12458d8",
   "metadata": {
    "scrolled": false
   },
   "outputs": [],
   "source": [
    "from nltk.corpus import stopwords\n",
    "en_stops = set(stopwords.words('english'))\n",
    "words_box=[]\n",
    "star_box=[]\n",
    "for line in review_Gym_clear:\n",
    "    line_list=line['text'].strip().split()\n",
    "    for word in line_list:\n",
    "        if word not in en_stops:\n",
    "            words_box.append(word)\n",
    "            star_box.append(int(line['stars']))"
   ]
  },
  {
   "cell_type": "code",
   "execution_count": 8,
   "id": "impossible-immigration",
   "metadata": {},
   "outputs": [],
   "source": [
    "# def generate_ngrams(text, n_gram=1):\n",
    "#     token = [token for token in text.lower().split(' ') if token != '' if token not in STOPWORDS]\n",
    "#     ngrams = zip(*[token[i:] for i in range(n_gram)])\n",
    "#     return [' '.join(ngram) for ngram in ngrams]"
   ]
  },
  {
   "cell_type": "code",
   "execution_count": 9,
   "id": "adapted-murder",
   "metadata": {},
   "outputs": [],
   "source": [
    "# N = 100\n",
    "\n",
    "# # Unigrams\n",
    "# disaster_unigrams = defaultdict(int)\n",
    "# nondisaster_unigrams = defaultdict(int)\n",
    "\n",
    "# for tweet in df_train[DISASTER_TWEETS]['text']:\n",
    "#     for word in generate_ngrams(tweet):\n",
    "#         disaster_unigrams[word] += 1\n",
    "        \n",
    "# for tweet in df_train[~DISASTER_TWEETS]['text']:\n",
    "#     for word in generate_ngrams(tweet):\n",
    "#         nondisaster_unigrams[word] += 1\n",
    "        \n",
    "# df_disaster_unigrams = pd.DataFrame(sorted(disaster_unigrams.items(), key=lambda x: x[1])[::-1])\n",
    "# df_nondisaster_unigrams = pd.DataFrame(sorted(nondisaster_unigrams.items(), key=lambda x: x[1])[::-1])"
   ]
  },
  {
   "cell_type": "code",
   "execution_count": 10,
   "id": "latest-reason",
   "metadata": {},
   "outputs": [],
   "source": [
    "from nltk.stem import WordNetLemmatizer\n",
    "lemm= WordNetLemmatizer()\n",
    "stemmer = nltk.stem.PorterStemmer()"
   ]
  },
  {
   "cell_type": "code",
   "execution_count": 11,
   "id": "a08a46f4",
   "metadata": {
    "scrolled": true
   },
   "outputs": [],
   "source": [
    "words_new=[]\n",
    "for i in words_box:\n",
    "    words_new.append(lemm.lemmatize(i))"
   ]
  },
  {
   "cell_type": "code",
   "execution_count": 12,
   "id": "60c9ff38",
   "metadata": {},
   "outputs": [
    {
     "data": {
      "text/html": [
       "<div>\n",
       "<style scoped>\n",
       "    .dataframe tbody tr th:only-of-type {\n",
       "        vertical-align: middle;\n",
       "    }\n",
       "\n",
       "    .dataframe tbody tr th {\n",
       "        vertical-align: top;\n",
       "    }\n",
       "\n",
       "    .dataframe thead th {\n",
       "        text-align: right;\n",
       "    }\n",
       "</style>\n",
       "<table border=\"1\" class=\"dataframe\">\n",
       "  <thead>\n",
       "    <tr style=\"text-align: right;\">\n",
       "      <th></th>\n",
       "      <th>Word</th>\n",
       "      <th>Star</th>\n",
       "    </tr>\n",
       "  </thead>\n",
       "  <tbody>\n",
       "    <tr>\n",
       "      <th>0</th>\n",
       "      <td>dude</td>\n",
       "      <td>4</td>\n",
       "    </tr>\n",
       "    <tr>\n",
       "      <th>1</th>\n",
       "      <td>dude</td>\n",
       "      <td>4</td>\n",
       "    </tr>\n",
       "    <tr>\n",
       "      <th>2</th>\n",
       "      <td>dude</td>\n",
       "      <td>4</td>\n",
       "    </tr>\n",
       "    <tr>\n",
       "      <th>3</th>\n",
       "      <td>place</td>\n",
       "      <td>4</td>\n",
       "    </tr>\n",
       "    <tr>\n",
       "      <th>4</th>\n",
       "      <td>awesome</td>\n",
       "      <td>4</td>\n",
       "    </tr>\n",
       "    <tr>\n",
       "      <th>...</th>\n",
       "      <td>...</td>\n",
       "      <td>...</td>\n",
       "    </tr>\n",
       "    <tr>\n",
       "      <th>4186008</th>\n",
       "      <td>super</td>\n",
       "      <td>5</td>\n",
       "    </tr>\n",
       "    <tr>\n",
       "      <th>4186009</th>\n",
       "      <td>nice</td>\n",
       "      <td>5</td>\n",
       "    </tr>\n",
       "    <tr>\n",
       "      <th>4186010</th>\n",
       "      <td>friendly</td>\n",
       "      <td>5</td>\n",
       "    </tr>\n",
       "    <tr>\n",
       "      <th>4186011</th>\n",
       "      <td>flywheel</td>\n",
       "      <td>5</td>\n",
       "    </tr>\n",
       "    <tr>\n",
       "      <th>4186012</th>\n",
       "      <td>good</td>\n",
       "      <td>5</td>\n",
       "    </tr>\n",
       "  </tbody>\n",
       "</table>\n",
       "<p>4186013 rows × 2 columns</p>\n",
       "</div>"
      ],
      "text/plain": [
       "             Word  Star\n",
       "0            dude     4\n",
       "1            dude     4\n",
       "2            dude     4\n",
       "3           place     4\n",
       "4         awesome     4\n",
       "...           ...   ...\n",
       "4186008     super     5\n",
       "4186009      nice     5\n",
       "4186010  friendly     5\n",
       "4186011  flywheel     5\n",
       "4186012      good     5\n",
       "\n",
       "[4186013 rows x 2 columns]"
      ]
     },
     "execution_count": 12,
     "metadata": {},
     "output_type": "execute_result"
    }
   ],
   "source": [
    "box_zip=zip(words_new,star_box)\n",
    "words_stars=[i for i in box_zip]\n",
    "words_star_df=pd.DataFrame(words_stars, columns=['Word','Star'])\n",
    "words_star_df"
   ]
  },
  {
   "cell_type": "code",
   "execution_count": 13,
   "id": "b2ba3ff8",
   "metadata": {},
   "outputs": [],
   "source": [
    "words_star_df.to_csv('words_star.csv')"
   ]
  },
  {
   "cell_type": "code",
   "execution_count": 136,
   "id": "a0a97233",
   "metadata": {},
   "outputs": [
    {
     "data": {
      "text/html": [
       "<div>\n",
       "<style scoped>\n",
       "    .dataframe tbody tr th:only-of-type {\n",
       "        vertical-align: middle;\n",
       "    }\n",
       "\n",
       "    .dataframe tbody tr th {\n",
       "        vertical-align: top;\n",
       "    }\n",
       "\n",
       "    .dataframe thead th {\n",
       "        text-align: right;\n",
       "    }\n",
       "</style>\n",
       "<table border=\"1\" class=\"dataframe\">\n",
       "  <thead>\n",
       "    <tr style=\"text-align: right;\">\n",
       "      <th></th>\n",
       "      <th>word</th>\n",
       "      <th>pos</th>\n",
       "    </tr>\n",
       "  </thead>\n",
       "  <tbody>\n",
       "    <tr>\n",
       "      <th>0</th>\n",
       "      <td>dude</td>\n",
       "      <td>NN</td>\n",
       "    </tr>\n",
       "    <tr>\n",
       "      <th>1</th>\n",
       "      <td>dude</td>\n",
       "      <td>NN</td>\n",
       "    </tr>\n",
       "    <tr>\n",
       "      <th>2</th>\n",
       "      <td>dude</td>\n",
       "      <td>JJ</td>\n",
       "    </tr>\n",
       "    <tr>\n",
       "      <th>3</th>\n",
       "      <td>place</td>\n",
       "      <td>NN</td>\n",
       "    </tr>\n",
       "    <tr>\n",
       "      <th>4</th>\n",
       "      <td>awesome</td>\n",
       "      <td>JJ</td>\n",
       "    </tr>\n",
       "    <tr>\n",
       "      <th>5</th>\n",
       "      <td>awesome</td>\n",
       "      <td>JJ</td>\n",
       "    </tr>\n",
       "    <tr>\n",
       "      <th>6</th>\n",
       "      <td>mean</td>\n",
       "      <td>NN</td>\n",
       "    </tr>\n",
       "    <tr>\n",
       "      <th>7</th>\n",
       "      <td>totally</td>\n",
       "      <td>RB</td>\n",
       "    </tr>\n",
       "  </tbody>\n",
       "</table>\n",
       "</div>"
      ],
      "text/plain": [
       "      word pos\n",
       "0     dude  NN\n",
       "1     dude  NN\n",
       "2     dude  JJ\n",
       "3    place  NN\n",
       "4  awesome  JJ\n",
       "5  awesome  JJ\n",
       "6     mean  NN\n",
       "7  totally  RB"
      ]
     },
     "execution_count": 136,
     "metadata": {},
     "output_type": "execute_result"
    }
   ],
   "source": [
    "pos=pd.DataFrame(pos_tags, columns=['word','pos'])\n",
    "pos"
   ]
  },
  {
   "cell_type": "code",
   "execution_count": 138,
   "id": "adb1c037",
   "metadata": {},
   "outputs": [
    {
     "data": {
      "text/plain": [
       "0       dude\n",
       "1       dude\n",
       "2       dude\n",
       "3      place\n",
       "4    awesome\n",
       "5    awesome\n",
       "6       mean\n",
       "Name: word, dtype: object"
      ]
     },
     "execution_count": 138,
     "metadata": {},
     "output_type": "execute_result"
    }
   ],
   "source": [
    "draw=pos[pos.pos.isin(['NN','JJ','JJR','JJS','NNS','NNP','NNPS','UH'])]\n",
    "draw.word"
   ]
  },
  {
   "cell_type": "code",
   "execution_count": 139,
   "id": "cd897b21",
   "metadata": {},
   "outputs": [],
   "source": [
    "count=collections.Counter(draw.word)"
   ]
  },
  {
   "cell_type": "code",
   "execution_count": 140,
   "id": "34a4150a",
   "metadata": {},
   "outputs": [],
   "source": [
    "a=count.most_common(500)\n",
    "a=pd.DataFrame(a, columns=['word','count'])"
   ]
  },
  {
   "cell_type": "code",
   "execution_count": 44,
   "id": "adc91ac8",
   "metadata": {},
   "outputs": [],
   "source": [
    "b=pd.DataFrame(nltk.pos_tag(a.word),columns=['word','tag'])\n",
    "pd.concat([a,b.tag],axis=1).to_csv('after_postag.csv')"
   ]
  },
  {
   "cell_type": "markdown",
   "id": "69bd7bbd",
   "metadata": {},
   "source": [
    "# 词云"
   ]
  }
 ],
 "metadata": {
  "kernelspec": {
   "display_name": "Python 3 (ipykernel)",
   "language": "python",
   "name": "python3"
  },
  "language_info": {
   "codemirror_mode": {
    "name": "ipython",
    "version": 3
   },
   "file_extension": ".py",
   "mimetype": "text/x-python",
   "name": "python",
   "nbconvert_exporter": "python",
   "pygments_lexer": "ipython3",
   "version": "3.9.7"
  }
 },
 "nbformat": 4,
 "nbformat_minor": 5
}
